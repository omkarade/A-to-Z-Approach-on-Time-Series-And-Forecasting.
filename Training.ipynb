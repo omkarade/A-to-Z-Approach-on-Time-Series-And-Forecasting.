{
  "nbformat": 4,
  "nbformat_minor": 0,
  "metadata": {
    "colab": {
      "provenance": [],
      "machine_shape": "hm",
      "include_colab_link": true
    },
    "kernelspec": {
      "name": "python3",
      "display_name": "Python 3"
    },
    "language_info": {
      "name": "python"
    }
  },
  "cells": [
    {
      "cell_type": "markdown",
      "metadata": {
        "id": "view-in-github",
        "colab_type": "text"
      },
      "source": [
        "<a href=\"https://colab.research.google.com/github/omkarade/A-to-Z-Approach-on-Time-Series-And-Forecasting./blob/main/Training.ipynb\" target=\"_parent\"><img src=\"https://colab.research.google.com/assets/colab-badge.svg\" alt=\"Open In Colab\"/></a>"
      ]
    },
    {
      "cell_type": "markdown",
      "source": [
        "**downloading data**"
      ],
      "metadata": {
        "id": "wlC8DzHUrKAg"
      }
    },
    {
      "cell_type": "code",
      "source": [
        "! cp kaggle.json ~/.kaggle\n",
        "! chmod 600 ~/.kaggle/kaggle.json\n",
        "!kaggle competitions download -c store-sales-time-series-forecasting\n",
        "! unzip store-sales-time-series-forecasting.zip"
      ],
      "metadata": {
        "colab": {
          "base_uri": "https://localhost:8080/"
        },
        "id": "YN519UDnrIqQ",
        "outputId": "992f6741-29e4-4920-db39-202d3903e4cf"
      },
      "execution_count": null,
      "outputs": [
        {
          "output_type": "stream",
          "name": "stdout",
          "text": [
            "Downloading store-sales-time-series-forecasting.zip to /content\n",
            " 42% 9.00M/21.4M [00:01<00:02, 6.43MB/s]\n",
            "100% 21.4M/21.4M [00:01<00:00, 16.5MB/s]\n",
            "Archive:  store-sales-time-series-forecasting.zip\n",
            "  inflating: holidays_events.csv     \n",
            "  inflating: oil.csv                 \n",
            "  inflating: sample_submission.csv   \n",
            "  inflating: stores.csv              \n",
            "  inflating: test.csv                \n",
            "  inflating: train.csv               \n",
            "  inflating: transactions.csv        \n"
          ]
        }
      ]
    },
    {
      "cell_type": "code",
      "source": [
        "import pandas as pd\n",
        "import numpy as np \n",
        "from sklearn.metrics import mean_squared_error\n",
        "import pylab \n",
        "from sklearn.svm import SVR\n",
        "from sklearn.linear_model import LinearRegression\n",
        "import scipy.stats as stats\n",
        "import matplotlib.pyplot as plt\n",
        "from sklearn.ensemble import RandomForestRegressor\n",
        "from sklearn.datasets import make_regression\n",
        "import seaborn as sns\n",
        "from sklearn.preprocessing import LabelEncoder\n",
        "from sklearn.preprocessing import StandardScaler\n",
        "import pickle\n",
        "import xgboost as xgb\n",
        "from sklearn.metrics import mean_squared_error\n",
        "from sklearn.metrics import mean_absolute_error\n",
        "from math import sqrt\n",
        "from joblib import Parallel, delayed\n",
        "import joblib\n",
        "import statsmodels.api as sm\n",
        "import warnings\n",
        "warnings.filterwarnings(\"ignore\")"
      ],
      "metadata": {
        "id": "UHL_69FOrZ37"
      },
      "execution_count": null,
      "outputs": []
    },
    {
      "cell_type": "markdown",
      "source": [
        "**Data loading**"
      ],
      "metadata": {
        "id": "hDKG13mhN5fW"
      }
    },
    {
      "cell_type": "code",
      "source": [
        "tran=pd.read_csv('train.csv')\n",
        "stores=pd.read_csv('stores.csv')\n",
        "transactions=pd.read_csv('transactions.csv')\n",
        "oil=pd.read_csv('oil.csv')\n",
        "holidays_events=pd.read_csv('holidays_events.csv')\n",
        "data1 = tran.merge(stores, how = 'left', on = 'store_nbr' )\n",
        "data1['date'] = pd.to_datetime(data1['date'])\n",
        "holidays_events['date'] = pd.to_datetime(holidays_events['date'])\n",
        "oil['date'] = pd.to_datetime(oil['date'])\n",
        "data2 = data1.merge(holidays_events, how = 'left', on = 'date' )\n",
        "data2 = data2.merge(oil, how ='left', on ='date')\n",
        "data2[\"type_y\"] = data2[\"type_y\"].fillna(\"Not Holiday\")\n",
        "data2[\"locale\"] = data2[\"locale\"].fillna(\"Not Holiday\")\n",
        "data2[\"locale_name\"] = data2[\"locale_name\"].fillna(\"Ecuador\")\n",
        "data2[\"description\"] = data2[\"description\"].fillna(\"NA\")\n",
        "data2[\"transferred\"] = data2[\"transferred\"].fillna(False)\n",
        "data2[\"dcoilwtico\"] = data2[\"dcoilwtico\"].fillna(np.mean(data2[\"dcoilwtico\"]))\n",
        "data2[\"description\"] = data2[\"description\"].fillna(\"NA\")\n",
        "data2[\"month\"] = data2['date'].map(lambda x: x.month)"
      ],
      "metadata": {
        "id": "lbSMjxQWrfxU"
      },
      "execution_count": null,
      "outputs": []
    },
    {
      "cell_type": "markdown",
      "source": [
        "**In EDA got some unnecessary columns so Removing them**"
      ],
      "metadata": {
        "id": "4-RHN35TrxJA"
      }
    },
    {
      "cell_type": "code",
      "source": [
        "data2=data2.drop(columns=\"dcoilwtico\")\n",
        "data2=data2.drop(columns=\"id\")\n",
        "data2=data2.drop(columns=\"transferred\")"
      ],
      "metadata": {
        "id": "RLX1f76Frf4R"
      },
      "execution_count": null,
      "outputs": []
    },
    {
      "cell_type": "code",
      "source": [
        "train=data2[:28000]\n",
        "trainn=train[:22000]\n",
        "testn=train[22000:]"
      ],
      "metadata": {
        "id": "GkMZk--6trlf"
      },
      "execution_count": null,
      "outputs": []
    },
    {
      "cell_type": "markdown",
      "source": [
        "**Function_1-Pipline for clening to predicting**"
      ],
      "metadata": {
        "id": "aE6a3w-lr9g3"
      }
    },
    {
      "cell_type": "code",
      "source": [
        "def clen_to_pred(data2,fulldata,model=\"\"):\n",
        "#training RandomForestRegressor Model\n",
        "  if model==\"RandomForestRegressor\":\n",
        "    descp=pd.concat([data2,fulldata], ignore_index=True, axis=0)\n",
        "    descp=descp.drop(columns=\"date\")\n",
        "    catage=descp[[\"family\",\"city\",\"state\",\"type_x\",\"type_y\",\"locale\",\"locale_name\",\"description\"]]\n",
        "    #Converting Categorical Features Into One Hot Encoding  \n",
        "    descr=pd.get_dummies(catage)\n",
        "    descr[\"store_nbr\"]=descp[\"store_nbr\"]\n",
        "    descr[\"onpromotion\"]=descp[\"onpromotion\"]\n",
        "    descr[\"cluster\"]=descp[\"cluster\"]\n",
        "\n",
        "    #Adding lag Features\n",
        "    train=descr[:22000]\n",
        "    train[\"sales\"]=fulldata[\"sales\"]\n",
        "    train['sales_lag_15'] = train['sales'].shift(2)\n",
        "    train['sales_lag_30'] = train['sales'].shift(3)\n",
        "    train['sales_lag_60'] = train['sales'].shift(7)\n",
        "    train['sales_lag_140'] = train['sales'].shift(15)\n",
        "    train['sales_lag_15'] = train['sales_lag_15'].fillna(0)\n",
        "    train['sales_lag_30'] = train['sales_lag_30'].fillna(0)\n",
        "    train['sales_lag_60'] = train['sales_lag_60'].fillna(0)\n",
        "    train['sales_lag_140'] = train['sales_lag_140'].fillna(0)\n",
        "    train['Expo_moving_sale_2']=train['sales'].ewm(com=0.2).mean()\n",
        "    train['Expo_moving_sale_4']=train['sales'].ewm(com=0.4).mean()\n",
        "    train['Expo_moving_sale_6']=train['sales'].ewm(com=0.6).mean()\n",
        "    train['Expo_moving_sale_8']=train['sales'].ewm(com=0.8).mean()\n",
        "    \n",
        "    #Adding lag Features into test data\n",
        "    testa=descr[22000:]\n",
        "    testa[\"sales\"]=data2[\"sales\"]\n",
        "    testa['sales_lag_15'] = testa['sales'].shift(2)\n",
        "    testa['sales_lag_30'] = testa['sales'].shift(3)\n",
        "    testa['sales_lag_60'] = testa['sales'].shift(7)\n",
        "    testa['sales_lag_140'] = testa['sales'].shift(15)\n",
        "    testa['sales_lag_15'] = testa['sales_lag_15'].fillna(0)\n",
        "    testa['sales_lag_30'] = testa['sales_lag_30'].fillna(0)\n",
        "    testa['sales_lag_60'] = testa['sales_lag_60'].fillna(0)\n",
        "    testa['sales_lag_140'] = testa['sales_lag_140'].fillna(0)\n",
        "    testa['Expo_moving_sale_2']=testa['sales'].ewm(com=0.2).mean()\n",
        "    testa['Expo_moving_sale_4']=testa['sales'].ewm(com=0.4).mean()\n",
        "    testa['Expo_moving_sale_6']=testa['sales'].ewm(com=0.6).mean()\n",
        "    testa['Expo_moving_sale_8']=testa['sales'].ewm(com=0.8).mean()\n",
        "\n",
        "    testa=testa.drop(columns=\"sales\")\n",
        "    y_main=fulldata.sales\n",
        "    train=train.drop(columns=\"sales\")\n",
        "    train=train.fillna(0)\n",
        "    train1=train[:22000]\n",
        "\n",
        "    #Training RandomForestRegressor \n",
        "    regr = RandomForestRegressor(n_estimators=1100)\n",
        "    regr.fit(train1,y_main)\n",
        "    y_main2=data2.sales\n",
        "    testa=testa.fillna(0)\n",
        "    #Predicting Test Data \n",
        "    Y_predict=regr.predict(testa)\n",
        "    return Y_predict,y_main2\n",
        "\n",
        "  if model==\"LinearRegression\":\n",
        "    descp=pd.concat([data2,fulldata], ignore_index=True, axis=0)\n",
        "    descp=descp.drop(columns=\"date\")\n",
        "    catage=descp[[\"family\",\"city\",\"state\",\"type_x\",\"type_y\",\"locale\",\"locale_name\",\"description\"]]\n",
        "    #Converting Categorical Features Into One Hot Encoding  \n",
        "    descr=pd.get_dummies(catage)\n",
        "    descr[\"store_nbr\"]=descp[\"store_nbr\"]\n",
        "    descr[\"onpromotion\"]=descp[\"onpromotion\"]\n",
        "    descr[\"cluster\"]=descp[\"cluster\"]\n",
        "\n",
        "    #Adding lag Features\n",
        "    train=descr[:22000]\n",
        "    train[\"sales\"]=fulldata[\"sales\"]\n",
        "    train['sales_lag_15'] = train['sales'].shift(2)\n",
        "    train['sales_lag_30'] = train['sales'].shift(3)\n",
        "    train['sales_lag_60'] = train['sales'].shift(7)\n",
        "    train['sales_lag_140'] = train['sales'].shift(15)\n",
        "    train['sales_lag_15'] = train['sales_lag_15'].fillna(0)\n",
        "    train['sales_lag_30'] = train['sales_lag_30'].fillna(0)\n",
        "    train['sales_lag_60'] = train['sales_lag_60'].fillna(0)\n",
        "    train['sales_lag_140'] = train['sales_lag_140'].fillna(0)\n",
        "    train['Expo_moving_sale_2']=train['sales'].ewm(com=0.2).mean()\n",
        "    train['Expo_moving_sale_4']=train['sales'].ewm(com=0.4).mean()\n",
        "    train['Expo_moving_sale_6']=train['sales'].ewm(com=0.6).mean()\n",
        "    train['Expo_moving_sale_8']=train['sales'].ewm(com=0.8).mean()\n",
        "    \n",
        "    #Adding lag Features into test data\n",
        "    testa=descr[22000:]\n",
        "    testa[\"sales\"]=data2[\"sales\"]\n",
        "    testa['sales_lag_15'] = testa['sales'].shift(2)\n",
        "    testa['sales_lag_30'] = testa['sales'].shift(3)\n",
        "    testa['sales_lag_60'] = testa['sales'].shift(7)\n",
        "    testa['sales_lag_140'] = testa['sales'].shift(15)\n",
        "    testa['sales_lag_15'] = testa['sales_lag_15'].fillna(0)\n",
        "    testa['sales_lag_30'] = testa['sales_lag_30'].fillna(0)\n",
        "    testa['sales_lag_60'] = testa['sales_lag_60'].fillna(0)\n",
        "    testa['sales_lag_140'] = testa['sales_lag_140'].fillna(0)\n",
        "    testa['Expo_moving_sale_2']=testa['sales'].ewm(com=0.2).mean()\n",
        "    testa['Expo_moving_sale_4']=testa['sales'].ewm(com=0.4).mean()\n",
        "    testa['Expo_moving_sale_6']=testa['sales'].ewm(com=0.6).mean()\n",
        "    testa['Expo_moving_sale_8']=testa['sales'].ewm(com=0.8).mean()\n",
        "\n",
        "    testa=testa.drop(columns=\"sales\")\n",
        "    y_main=fulldata.sales\n",
        "    train=train.drop(columns=\"sales\")\n",
        "    train=train.fillna(0)\n",
        "    train1=train[:22000]\n",
        "\n",
        "    regr=LinearRegression()\n",
        "    regr.fit(train1,y_main)\n",
        "    y_main2=data2.sales\n",
        "    testa=testa.fillna(0)\n",
        "    #Predicting Test Data \n",
        "    Y_predict=regr.predict(testa)\n",
        "    return Y_predict,y_main2\n",
        "\n",
        "\n",
        "  if model==\"SVM\":\n",
        "    descp=pd.concat([data2,fulldata], ignore_index=True, axis=0)\n",
        "    descp=descp.drop(columns=\"date\")\n",
        "    catage=descp[[\"family\",\"city\",\"state\",\"type_x\",\"type_y\",\"locale\",\"locale_name\",\"description\"]]\n",
        "    #Converting Categorical Features Into One Hot Encoding  \n",
        "    descr=pd.get_dummies(catage)\n",
        "    descr[\"store_nbr\"]=descp[\"store_nbr\"]\n",
        "    descr[\"onpromotion\"]=descp[\"onpromotion\"]\n",
        "    descr[\"cluster\"]=descp[\"cluster\"]\n",
        "\n",
        "    #Adding lag Features\n",
        "    train=descr[:22000]\n",
        "    train[\"sales\"]=fulldata[\"sales\"]\n",
        "    train['sales_lag_15'] = train['sales'].shift(2)\n",
        "    train['sales_lag_30'] = train['sales'].shift(3)\n",
        "    train['sales_lag_60'] = train['sales'].shift(7)\n",
        "    train['sales_lag_140'] = train['sales'].shift(15)\n",
        "    train['sales_lag_15'] = train['sales_lag_15'].fillna(0)\n",
        "    train['sales_lag_30'] = train['sales_lag_30'].fillna(0)\n",
        "    train['sales_lag_60'] = train['sales_lag_60'].fillna(0)\n",
        "    train['sales_lag_140'] = train['sales_lag_140'].fillna(0)\n",
        "    train['Expo_moving_sale_2']=train['sales'].ewm(com=0.2).mean()\n",
        "    train['Expo_moving_sale_4']=train['sales'].ewm(com=0.4).mean()\n",
        "    train['Expo_moving_sale_6']=train['sales'].ewm(com=0.6).mean()\n",
        "    train['Expo_moving_sale_8']=train['sales'].ewm(com=0.8).mean()\n",
        "    \n",
        "    #Adding lag Features into test data\n",
        "    testa=descr[22000:]\n",
        "    testa[\"sales\"]=data2[\"sales\"]\n",
        "    testa['sales_lag_15'] = testa['sales'].shift(2)\n",
        "    testa['sales_lag_30'] = testa['sales'].shift(3)\n",
        "    testa['sales_lag_60'] = testa['sales'].shift(7)\n",
        "    testa['sales_lag_140'] = testa['sales'].shift(15)\n",
        "    testa['sales_lag_15'] = testa['sales_lag_15'].fillna(0)\n",
        "    testa['sales_lag_30'] = testa['sales_lag_30'].fillna(0)\n",
        "    testa['sales_lag_60'] = testa['sales_lag_60'].fillna(0)\n",
        "    testa['sales_lag_140'] = testa['sales_lag_140'].fillna(0)\n",
        "    testa['Expo_moving_sale_2']=testa['sales'].ewm(com=0.2).mean()\n",
        "    testa['Expo_moving_sale_4']=testa['sales'].ewm(com=0.4).mean()\n",
        "    testa['Expo_moving_sale_6']=testa['sales'].ewm(com=0.6).mean()\n",
        "    testa['Expo_moving_sale_8']=testa['sales'].ewm(com=0.8).mean()\n",
        "\n",
        "    testa=testa.drop(columns=\"sales\")\n",
        "    y_main=fulldata.sales\n",
        "    train=train.drop(columns=\"sales\")\n",
        "    train=train.fillna(0)\n",
        "    train1=train[:22000]\n",
        "\n",
        "    regressor = SVR(C=10, epsilon=0.5, gamma=1e-07, kernel='rbf')\n",
        "    regressor.fit(train1,y_main)\n",
        "    y_main2=data2.sales\n",
        "    testa=testa.fillna(0)\n",
        "    #Predicting Test Data \n",
        "    Y_predict=regressor.predict(testa)\n",
        "    return Y_predict,y_main2\n",
        "\n",
        "  if model==\"DecisionTreeRegressor\":\n",
        "    descp=pd.concat([data2,fulldata], ignore_index=True, axis=0)\n",
        "    descp=descp.drop(columns=\"date\")\n",
        "    catage=descp[[\"family\",\"city\",\"state\",\"type_x\",\"type_y\",\"locale\",\"locale_name\",\"description\"]]\n",
        "    #Converting Categorical Features Into One Hot Encoding  \n",
        "    descr=pd.get_dummies(catage)\n",
        "    descr[\"store_nbr\"]=descp[\"store_nbr\"]\n",
        "    descr[\"onpromotion\"]=descp[\"onpromotion\"]\n",
        "    descr[\"cluster\"]=descp[\"cluster\"]\n",
        "\n",
        "    #Adding lag Features\n",
        "    train=descr[:22000]\n",
        "    train[\"sales\"]=fulldata[\"sales\"]\n",
        "    train['sales_lag_15'] = train['sales'].shift(2)\n",
        "    train['sales_lag_30'] = train['sales'].shift(3)\n",
        "    train['sales_lag_60'] = train['sales'].shift(7)\n",
        "    train['sales_lag_140'] = train['sales'].shift(15)\n",
        "    train['sales_lag_15'] = train['sales_lag_15'].fillna(0)\n",
        "    train['sales_lag_30'] = train['sales_lag_30'].fillna(0)\n",
        "    train['sales_lag_60'] = train['sales_lag_60'].fillna(0)\n",
        "    train['sales_lag_140'] = train['sales_lag_140'].fillna(0)\n",
        "    train['Expo_moving_sale_2']=train['sales'].ewm(com=0.2).mean()\n",
        "    train['Expo_moving_sale_4']=train['sales'].ewm(com=0.4).mean()\n",
        "    train['Expo_moving_sale_6']=train['sales'].ewm(com=0.6).mean()\n",
        "    train['Expo_moving_sale_8']=train['sales'].ewm(com=0.8).mean()\n",
        "    \n",
        "    #Adding lag Features into test data\n",
        "    testa=descr[22000:]\n",
        "    testa[\"sales\"]=data2[\"sales\"]\n",
        "    testa['sales_lag_15'] = testa['sales'].shift(2)\n",
        "    testa['sales_lag_30'] = testa['sales'].shift(3)\n",
        "    testa['sales_lag_60'] = testa['sales'].shift(7)\n",
        "    testa['sales_lag_140'] = testa['sales'].shift(15)\n",
        "    testa['sales_lag_15'] = testa['sales_lag_15'].fillna(0)\n",
        "    testa['sales_lag_30'] = testa['sales_lag_30'].fillna(0)\n",
        "    testa['sales_lag_60'] = testa['sales_lag_60'].fillna(0)\n",
        "    testa['sales_lag_140'] = testa['sales_lag_140'].fillna(0)\n",
        "    testa['Expo_moving_sale_2']=testa['sales'].ewm(com=0.2).mean()\n",
        "    testa['Expo_moving_sale_4']=testa['sales'].ewm(com=0.4).mean()\n",
        "    testa['Expo_moving_sale_6']=testa['sales'].ewm(com=0.6).mean()\n",
        "    testa['Expo_moving_sale_8']=testa['sales'].ewm(com=0.8).mean()\n",
        "\n",
        "    testa=testa.drop(columns=\"sales\")\n",
        "    y_main=fulldata.sales\n",
        "    train=train.drop(columns=\"sales\")\n",
        "    train=train.fillna(0)\n",
        "    train1=train[:22000]\n",
        "\n",
        "    #Training RandomForestRegressor \n",
        "    regr = DecisionTreeRegressor(random_state=0)\n",
        "    regr.fit(train1,y_main)\n",
        "    y_main2=data2.sales\n",
        "    testa=testa.fillna(0)\n",
        "    #Predicting Test Data\n",
        "    Y_predict=regr.predict(testa)\n",
        "    return Y_predict,y_main2\n",
        "\n",
        "  if model==\"XGBRegressor\":\n",
        "    descp=pd.concat([data2,fulldata], ignore_index=True, axis=0)\n",
        "    descp=descp.drop(columns=\"date\")\n",
        "    catage=descp[[\"family\",\"city\",\"state\",\"type_x\",\"type_y\",\"locale\",\"locale_name\",\"description\"]]\n",
        "    #Converting Categorical Features Into One Hot Encoding  \n",
        "    descr=pd.get_dummies(catage)\n",
        "    descr[\"store_nbr\"]=descp[\"store_nbr\"]\n",
        "    descr[\"onpromotion\"]=descp[\"onpromotion\"]\n",
        "    descr[\"cluster\"]=descp[\"cluster\"]\n",
        "\n",
        "    #Adding lag Features\n",
        "    train=descr[:22000]\n",
        "    train[\"sales\"]=fulldata[\"sales\"]\n",
        "    train['sales_lag_15'] = train['sales'].shift(2)\n",
        "    train['sales_lag_30'] = train['sales'].shift(3)\n",
        "    train['sales_lag_60'] = train['sales'].shift(7)\n",
        "    train['sales_lag_140'] = train['sales'].shift(15)\n",
        "    train['sales_lag_15'] = train['sales_lag_15'].fillna(0)\n",
        "    train['sales_lag_30'] = train['sales_lag_30'].fillna(0)\n",
        "    train['sales_lag_60'] = train['sales_lag_60'].fillna(0)\n",
        "    train['sales_lag_140'] = train['sales_lag_140'].fillna(0)\n",
        "    train['Expo_moving_sale_2']=train['sales'].ewm(com=0.2).mean()\n",
        "    train['Expo_moving_sale_4']=train['sales'].ewm(com=0.4).mean()\n",
        "    train['Expo_moving_sale_6']=train['sales'].ewm(com=0.6).mean()\n",
        "    train['Expo_moving_sale_8']=train['sales'].ewm(com=0.8).mean()\n",
        "    \n",
        "    #Adding lag Features into test data\n",
        "    testa=descr[22000:]\n",
        "    testa[\"sales\"]=data2[\"sales\"]\n",
        "    testa['sales_lag_15'] = testa['sales'].shift(2)\n",
        "    testa['sales_lag_30'] = testa['sales'].shift(3)\n",
        "    testa['sales_lag_60'] = testa['sales'].shift(7)\n",
        "    testa['sales_lag_140'] = testa['sales'].shift(15)\n",
        "    testa['sales_lag_15'] = testa['sales_lag_15'].fillna(0)\n",
        "    testa['sales_lag_30'] = testa['sales_lag_30'].fillna(0)\n",
        "    testa['sales_lag_60'] = testa['sales_lag_60'].fillna(0)\n",
        "    testa['sales_lag_140'] = testa['sales_lag_140'].fillna(0)\n",
        "    testa['Expo_moving_sale_2']=testa['sales'].ewm(com=0.2).mean()\n",
        "    testa['Expo_moving_sale_4']=testa['sales'].ewm(com=0.4).mean()\n",
        "    testa['Expo_moving_sale_6']=testa['sales'].ewm(com=0.6).mean()\n",
        "    testa['Expo_moving_sale_8']=testa['sales'].ewm(com=0.8).mean()\n",
        "\n",
        "    testa=testa.drop(columns=\"sales\")\n",
        "    y_main=fulldata.sales\n",
        "    train=train.drop(columns=\"sales\")\n",
        "    train=train.fillna(0)\n",
        "    train1=train[:22000]\n",
        "\n",
        "    #Training RandomForestRegressor \n",
        "    xgbr = xgb.XGBRegressor(max_depth=7,max_features='sqrt', min_samples_split=0.1) \n",
        "    xgbr.fit(train1,y_main)\n",
        "    y_main2=data2.sales\n",
        "    testa=testa.fillna(0)\n",
        "    #Predicting Test Data\n",
        "    Y_predict=xgbr.predict(testa)\n",
        "    return Y_predict,y_main2\n",
        "\n",
        "\n",
        "# Predicting Using Holt_Winters_Method     \n",
        "  if model==\"Holt_Winters_Method\":\n",
        "    #Removing unnecessary columns\n",
        "    fulldata.Timestamp = pd.to_datetime(fulldata.date,format='%Y-%m-%d') \n",
        "    data2.Timestamp = pd.to_datetime(data2.date,format='%Y-%m-%d') \n",
        "    fulldata.index = fulldata.Timestamp \n",
        "    data2.index = data2.Timestamp \n",
        "    fulldata=fulldata.drop(labels=[\"family\",\"city\",\"state\",\"type_x\",\"type_y\",\"locale\",\"locale_name\",\"description\",\"cluster\",\"onpromotion\",\"month\"], axis=1)\n",
        "    data2=data2.drop(labels=[\"family\",\"city\",\"state\",\"type_x\",\"type_y\",\"locale\",\"locale_name\",\"description\",\"cluster\",\"onpromotion\",\"month\"], axis=1)\n",
        "    y_hat_avg = data2.copy()\n",
        "    #Training Model\n",
        "    fit1 = ExponentialSmoothing(np.asarray(fulldata['sales']) ,seasonal_periods=7 ,trend='add', seasonal='add',).fit()\n",
        "    #Predicting Test Data\n",
        "    y_hat_avg['Holt_Winters_Method'] = fit1.forecast(len(data2))\n",
        "    plt.figure(figsize=(16,8))\n",
        "    plt.plot( fulldata['sales'], label='Train')\n",
        "    plt.plot(data2['sales'], label='Test')\n",
        "    plt.plot(y_hat_avg['Holt_Winters_Method'], label='Holt_Winter')\n",
        "    plt.legend(loc='best')\n",
        "    plt.show()\n",
        "    return y_hat_avg[\"Holt_Winters_Method\"],data2['sales']\n",
        "\n",
        "# Predicting Using moving_avg_forecast Model\n",
        "  if model==\"moving_avg_forecast\":\n",
        "    fulldata.Timestamp = pd.to_datetime(fulldata.date,format='%Y-%m-%d')\n",
        "    data2.Timestamp = pd.to_datetime(data2.date,format='%Y-%m-%d') \n",
        "    fulldata.index = fulldata.Timestamp \n",
        "    data2.index = data2.Timestamp \n",
        "    fulldata=fulldata.drop(labels=[\"family\",\"city\",\"state\",\"type_x\",\"type_y\",\"locale\",\"locale_name\",\"description\",\"cluster\",\"onpromotion\",\"month\"], axis=1)\n",
        "    data2=data2.drop(labels=[\"family\",\"city\",\"state\",\"type_x\",\"type_y\",\"locale\",\"locale_name\",\"description\",\"cluster\",\"onpromotion\",\"month\"], axis=1)\n",
        "    y_hat_avg = data2.copy()\n",
        "    #Predicting Test Data\n",
        "    y_hat_avg['moving_avg_forecast'] = fulldata['sales'].rolling(7).mean().iloc[-1]\n",
        "    plt.figure(figsize=(16,8))\n",
        "    plt.plot(fulldata['sales'], label='Train')\n",
        "    plt.plot(data2['sales'], label='Test')\n",
        "    plt.plot(y_hat_avg['moving_avg_forecast'], label='Moving Average Forecast')\n",
        "    plt.legend(loc='best')\n",
        "    plt.show()\n",
        "    return y_hat_avg[\"moving_avg_forecast\"],data2['sales']\n",
        "\n",
        "#training ARIMA Model\n",
        "  if model==\"ARIMA\":\n",
        "    fulldata.Timestamp = pd.to_datetime(fulldata.date,format='%Y-%m-%d') \n",
        "    fulldata.index = fulldata.Timestamp \n",
        "    fulldata=fulldata.drop(labels=[\"family\",\"city\",\"state\",\"type_x\",\"type_y\",\"locale\",\"locale_name\",\"description\",\"cluster\",\"onpromotion\",\"month\"], axis=1)\n",
        "    model=sm.tsa.arima.ARIMA(fulldata['sales'],order=(5,1,4))\n",
        "    #Training Model\n",
        "    model=model.fit()\n",
        "    model.summary()\n",
        "    data2=data2.drop(labels=[\"family\",\"city\",\"state\",\"type_x\",\"type_y\",\"locale\",\"locale_name\",\"description\",\"cluster\",\"onpromotion\",\"month\"], axis=1)\n",
        "    start=len(fulldata)\n",
        "    end=len(fulldata)+len(data2)-1\n",
        "    #Predicting Test Data\n",
        "    preds=model.predict(start=start,end=end,typ='levels').rename('ARIMA Predictions')\n",
        "    pv=preds.values\n",
        "    return pv,data2.sales.values"
      ],
      "metadata": {
        "id": "SLyCUWXk8Qlp"
      },
      "execution_count": null,
      "outputs": []
    },
    {
      "cell_type": "markdown",
      "source": [
        "**Function_2-Loss_Calculation**"
      ],
      "metadata": {
        "id": "Ra-hnf4PGjDc"
      }
    },
    {
      "cell_type": "code",
      "source": [
        "def Loss_Calculation(y_true, y_pred):\n",
        "  print(50*\"*\")\n",
        "  print('')\n",
        "  print(\"r2_score--\",r2_score(y_true, y_pred))\n",
        "  print('')\n",
        "  print(50*\"*\")\n",
        "  print('')\n",
        "  print(\"mean_absolute_error--\",mean_absolute_error(y_true, y_pred))\n",
        "  print('')\n",
        "  print(50*\"*\")\n",
        "  print('')\n",
        "  print(\"Root-mean-square_error--\",sqrt(mean_squared_error(y_true, y_pred)))\n",
        "  print('')\n",
        "  print(50*\"*\")\n",
        "  print('')\n",
        "  print(\"mean_squared_error--\",mean_squared_error(y_true, y_pred))\n",
        "  print('')\n",
        "  print(50*\"*\")\n"
      ],
      "metadata": {
        "id": "3E0QGdx_cFKI"
      },
      "execution_count": null,
      "outputs": []
    },
    {
      "cell_type": "markdown",
      "source": [
        "**Holt_Winters_Method**"
      ],
      "metadata": {
        "id": "9L3W62BLGapG"
      }
    },
    {
      "cell_type": "code",
      "source": [
        "train=data2[:28000]\n",
        "trainn=train[:22000]\n",
        "testn=train[22000:]\n",
        "datao,true_y=clen_to_pred(testn,trainn,model=\"Holt_Winters_Method\",ML_MODEL='none')\n",
        "Loss_Calculation(datao,true_y)"
      ],
      "metadata": {
        "colab": {
          "base_uri": "https://localhost:8080/",
          "height": 778
        },
        "id": "2UN7c-KqGGZT",
        "outputId": "6338ca5b-a0f3-4634-9443-15aac6dac10d"
      },
      "execution_count": null,
      "outputs": [
        {
          "output_type": "display_data",
          "data": {
            "text/plain": [
              "<Figure size 1152x576 with 1 Axes>"
            ],
            "image/png": "[encoded data removed]"
          },
          "metadata": {
            "needs_background": "light"
          }
        },
        {
          "output_type": "stream",
          "name": "stdout",
          "text": [
            "**************************************************\n",
            "\n",
            "r2_score-- -123863.66382168369\n",
            "\n",
            "**************************************************\n",
            "\n",
            "mean_absolute_error-- 265.8375500229276\n",
            "\n",
            "**************************************************\n",
            "\n",
            "Root-mean-square_error-- 639.0417607350577\n",
            "\n",
            "**************************************************\n",
            "\n",
            "mean_squared_error-- 408374.3719633627\n",
            "\n",
            "**************************************************\n"
          ]
        }
      ]
    },
    {
      "cell_type": "code",
      "source": [
        "Holt_Winters_Method=[-123863.66,265.83,639.04,408374.37]"
      ],
      "metadata": {
        "id": "D6BBQJ_-ldkW"
      },
      "execution_count": null,
      "outputs": []
    },
    {
      "cell_type": "markdown",
      "source": [
        "**moving_avg_forecast**"
      ],
      "metadata": {
        "id": "6y12_P57Gm89"
      }
    },
    {
      "cell_type": "code",
      "source": [
        "train=data2[:28000]\n",
        "trainn=train[:22000]\n",
        "testn=train[22000:]\n",
        "datao,true_y=clen_to_pred(testn,trainn,model=\"moving_avg_forecast\")\n",
        "Loss_Calculation(datao,true_y)"
      ],
      "metadata": {
        "colab": {
          "base_uri": "https://localhost:8080/",
          "height": 778
        },
        "id": "t7lUm2_ZGmfO",
        "outputId": "3a578e7e-6a9b-4acf-feab-3500b4ed9544"
      },
      "execution_count": null,
      "outputs": [
        {
          "output_type": "display_data",
          "data": {
            "text/plain": [
              "<Figure size 1152x576 with 1 Axes>"
            ],
            "image/png": "[encoded data removed]"
          },
          "metadata": {
            "needs_background": "light"
          }
        },
        {
          "output_type": "stream",
          "name": "stdout",
          "text": [
            "**************************************************\n",
            "\n",
            "r2_score-- -2.2456438076349048e+36\n",
            "\n",
            "**************************************************\n",
            "\n",
            "mean_absolute_error-- 189.7653745103334\n",
            "\n",
            "**************************************************\n",
            "\n",
            "Root-mean-square_error-- 665.4886563448754\n",
            "\n",
            "**************************************************\n",
            "\n",
            "mean_squared_error-- 442875.1517237077\n",
            "\n",
            "**************************************************\n"
          ]
        }
      ]
    },
    {
      "cell_type": "code",
      "source": [
        "moving_avg_forecast=[-2.24,189.76,665.48,442875.15]\n"
      ],
      "metadata": {
        "id": "qsH22bXClPYu"
      },
      "execution_count": null,
      "outputs": []
    },
    {
      "cell_type": "markdown",
      "source": [
        "**ARIMA**"
      ],
      "metadata": {
        "id": "qC3XbqxMGwZ8"
      }
    },
    {
      "cell_type": "code",
      "source": [
        "train=data2[:28000]\n",
        "trainn=train[:22000]\n",
        "testn=train[22000:]\n",
        "datao,true_y=clen_to_pred(testn,trainn,model=\"ARIMA\")\n",
        "Loss_Calculation(datao,true_y)"
      ],
      "metadata": {
        "colab": {
          "base_uri": "https://localhost:8080/"
        },
        "id": "Ar1s2gkOGv3-",
        "outputId": "b263778c-b772-4d81-fa49-6524f0f4116c"
      },
      "execution_count": null,
      "outputs": [
        {
          "output_type": "stream",
          "name": "stdout",
          "text": [
            "**************************************************\n",
            "\n",
            "r2_score-- -5003.328663480965\n",
            "\n",
            "**************************************************\n",
            "\n",
            "mean_absolute_error-- 263.70762713108945\n",
            "\n",
            "**************************************************\n",
            "\n",
            "Root-mean-square_error-- 639.0666473072916\n",
            "\n",
            "**************************************************\n",
            "\n",
            "mean_squared_error-- 408406.17970058235\n",
            "\n",
            "**************************************************\n"
          ]
        }
      ]
    },
    {
      "cell_type": "code",
      "source": [
        "ARIMA=[5003.32,263.70,639.06,408406.17]\n"
      ],
      "metadata": {
        "id": "SRVVpRDnlINq"
      },
      "execution_count": null,
      "outputs": []
    },
    {
      "cell_type": "markdown",
      "source": [
        "**LinearRegression**"
      ],
      "metadata": {
        "id": "NEC4UcgdfLF1"
      }
    },
    {
      "cell_type": "code",
      "source": [
        "train=data2[:28000]\n",
        "trainn=train[:22000]\n",
        "testn=train[22000:]\n",
        "datao,true_y=clen_to_pred(testn,trainn,model=\"LinearRegression\")\n",
        "Loss_Calculation(datao,true_y)\n"
      ],
      "metadata": {
        "colab": {
          "base_uri": "https://localhost:8080/"
        },
        "id": "A2D9zrgefENq",
        "outputId": "09a7e0b2-e16e-48a3-f24d-36b7a02ab718"
      },
      "execution_count": null,
      "outputs": [
        {
          "output_type": "stream",
          "name": "stdout",
          "text": [
            "**************************************************\n",
            "\n",
            "r2_score-- -0.42251481143792113\n",
            "\n",
            "**************************************************\n",
            "\n",
            "mean_absolute_error-- 730643.2537020842\n",
            "\n",
            "**************************************************\n",
            "\n",
            "Root-mean-square_error-- 1340686.1313706876\n",
            "\n",
            "**************************************************\n",
            "\n",
            "mean_squared_error-- 1797439302849.701\n",
            "\n",
            "**************************************************\n"
          ]
        }
      ]
    },
    {
      "cell_type": "code",
      "source": [
        "LinearRegression=[0.42,730643.25,1340686.13,1797439302849.701]\n"
      ],
      "metadata": {
        "id": "OA3-P7lrlANV"
      },
      "execution_count": null,
      "outputs": []
    },
    {
      "cell_type": "markdown",
      "source": [
        "**SVM**"
      ],
      "metadata": {
        "id": "yC47-AuAkUe3"
      }
    },
    {
      "cell_type": "code",
      "source": [
        "train=data2[:28000]\n",
        "trainn=train[:22000]\n",
        "testn=train[22000:]\n",
        "datao,true_y=clen_to_pred(testn,trainn,model=\"SVM\")\n",
        "Loss_Calculation(datao,true_y)"
      ],
      "metadata": {
        "colab": {
          "base_uri": "https://localhost:8080/"
        },
        "id": "_hyT3yIafEYw",
        "outputId": "f9d5fbde-d5f8-4316-be49-cc447849ff2a"
      },
      "execution_count": null,
      "outputs": [
        {
          "output_type": "stream",
          "name": "stdout",
          "text": [
            "**************************************************\n",
            "\n",
            "r2_score-- 0.23169856831350355\n",
            "\n",
            "**************************************************\n",
            "\n",
            "mean_absolute_error-- 57.4385349623318\n",
            "\n",
            "**************************************************\n",
            "\n",
            "Root-mean-square_error-- 383.46340234110596\n",
            "\n",
            "**************************************************\n",
            "\n",
            "mean_squared_error-- 147044.1809350169\n",
            "\n",
            "**************************************************\n"
          ]
        }
      ]
    },
    {
      "cell_type": "code",
      "source": [
        "SVM=[0.23,57.43,383.46,147044.18]\n"
      ],
      "metadata": {
        "id": "qU-ACoy9k0lt"
      },
      "execution_count": null,
      "outputs": []
    },
    {
      "cell_type": "markdown",
      "source": [
        "**DecisionTreeRegressor**"
      ],
      "metadata": {
        "id": "II3fzBmwkYIY"
      }
    },
    {
      "cell_type": "code",
      "source": [
        "train=data2[:28000]\n",
        "trainn=train[:22000]\n",
        "testn=train[22000:]\n",
        "datao,true_y=clen_to_pred(testn,trainn,model=\"DecisionTreeRegressor\")\n",
        "Loss_Calculation(datao,true_y)\n"
      ],
      "metadata": {
        "colab": {
          "base_uri": "https://localhost:8080/"
        },
        "id": "Ud0igkhgfEbh",
        "outputId": "f717f3cb-d199-4846-fe56-61c735a43163"
      },
      "execution_count": null,
      "outputs": [
        {
          "output_type": "stream",
          "name": "stdout",
          "text": [
            "**************************************************\n",
            "\n",
            "r2_score-- 0.9989137751100206\n",
            "\n",
            "**************************************************\n",
            "\n",
            "mean_absolute_error-- 4.477260858583334\n",
            "\n",
            "**************************************************\n",
            "\n",
            "Root-mean-square_error-- 21.072462455407056\n",
            "\n",
            "**************************************************\n",
            "\n",
            "mean_squared_error-- 444.0486739345399\n",
            "\n",
            "**************************************************\n"
          ]
        }
      ]
    },
    {
      "cell_type": "code",
      "source": [
        "DecisionTreeRegressor=[0.99,4.47,21.07,444.04]\n"
      ],
      "metadata": {
        "id": "Qbqr8ED2ksRf"
      },
      "execution_count": null,
      "outputs": []
    },
    {
      "cell_type": "markdown",
      "source": [
        "**XGBRegressor**"
      ],
      "metadata": {
        "id": "3zmMC4mnojXM"
      }
    },
    {
      "cell_type": "code",
      "source": [
        "train=data2[:28000]\n",
        "trainn=train[:22000]\n",
        "testn=train[22000:]\n",
        "datao,true_y=clen_to_pred(testn,trainn,model=\"XGBRegressor\")\n",
        "Loss_Calculation(datao,true_y)\n"
      ],
      "metadata": {
        "colab": {
          "base_uri": "https://localhost:8080/"
        },
        "id": "eQmRnffPfEiq",
        "outputId": "73576b91-e2ef-4a37-bdb1-60e7e619a883"
      },
      "execution_count": null,
      "outputs": [
        {
          "output_type": "stream",
          "name": "stdout",
          "text": [
            "**************************************************\n",
            "\n",
            "r2_score-- 0.9993493105690798\n",
            "\n",
            "**************************************************\n",
            "\n",
            "mean_absolute_error-- 4.09349188906481\n",
            "\n",
            "**************************************************\n",
            "\n",
            "Root-mean-square_error-- 16.33848938147703\n",
            "\n",
            "**************************************************\n",
            "\n",
            "mean_squared_error-- 266.94623526863757\n",
            "\n",
            "**************************************************\n"
          ]
        }
      ]
    },
    {
      "cell_type": "code",
      "source": [
        "XGBRegressor=[0.99,4.09,16.33,266.94]\n"
      ],
      "metadata": {
        "id": "WEEd9uSGkko1"
      },
      "execution_count": null,
      "outputs": []
    },
    {
      "cell_type": "markdown",
      "source": [
        "**RandomForestRegressor**"
      ],
      "metadata": {
        "id": "lqnOOmpZIBg0"
      }
    },
    {
      "cell_type": "code",
      "source": [
        "train=data2[:28000]\n",
        "trainn=train[:22000]\n",
        "testn=train[22000:]\n",
        "datao,true_y=clen_to_pred(testn,trainn,model=\"RandomForestRegressor\")\n",
        "Loss_Calculation(datao,true_y)\n",
        "datao.plot()\n",
        "true_y.plot()"
      ],
      "metadata": {
        "colab": {
          "base_uri": "https://localhost:8080/"
        },
        "id": "V40m2KVlIBqs",
        "outputId": "a93b6992-d978-4582-fa80-104b14577e39"
      },
      "execution_count": null,
      "outputs": [
        {
          "output_type": "stream",
          "name": "stdout",
          "text": [
            "**************************************************\n",
            "\n",
            "r2_score-- 0.9995798208899503\n",
            "\n",
            "**************************************************\n",
            "\n",
            "mean_absolute_error-- 2.904632964881348\n",
            "\n",
            "**************************************************\n",
            "\n",
            "Root-mean-square_error-- 13.10955821290096\n",
            "\n",
            "**************************************************\n",
            "\n",
            "mean_squared_error-- 171.86051653743903\n",
            "\n",
            "**************************************************\n"
          ]
        }
      ]
    },
    {
      "cell_type": "code",
      "source": [
        "SVM"
      ],
      "metadata": {
        "colab": {
          "base_uri": "https://localhost:8080/"
        },
        "id": "Yz5EnJ8YnpHb",
        "outputId": "fb415a3f-1910-4ddc-8eab-eae752a6142d"
      },
      "execution_count": null,
      "outputs": [
        {
          "output_type": "execute_result",
          "data": {
            "text/plain": [
              "[0.23, 57.43, 383.46, 147044.18]"
            ]
          },
          "metadata": {},
          "execution_count": 39
        }
      ]
    },
    {
      "cell_type": "code",
      "source": [
        "RandomForestRegressor=[0.99,2.9,13.10,171.86]"
      ],
      "metadata": {
        "id": "b1P_05mukJfd"
      },
      "execution_count": null,
      "outputs": []
    },
    {
      "cell_type": "code",
      "source": [
        "from tabulate import tabulate\n",
        "print(tabulate([['Holt_Winters_Method', -123863.66, 265.83, 639.04, 408374.37], ['moving_avg_forecast', -2.24, 189.76, 665.48, 442875.15],['ARIMA', 5003.32, 263.7, 639.06, 408406.17],['LinearRegression', 0.42, 730643.25, 1340686.13, 1797439302849.701],['SVM',0.23, 57.43, 383.46, 147044.18],['DecisionTreeRegressor', 0.99, 4.47, 21.07, 444.04],['XGBRegressor', 0.99, 4.09, 16.33, 266.94],['RandomForestRegressor',0.99, 2.9, 13.1, 171.86]], headers=['r2_score', 'mean_absolute_error','Root-mean-square_error','mean_squared_error'], tablefmt='orgtbl'))\n",
        "print(112*\"-\")"
      ],
      "metadata": {
        "colab": {
          "base_uri": "https://localhost:8080/"
        },
        "id": "iiB6kleYnEiE",
        "outputId": "2adaad7c-250e-4971-d461-7381c06e47d4"
      },
      "execution_count": null,
      "outputs": [
        {
          "output_type": "stream",
          "name": "stdout",
          "text": [
            "|                       |   r2_score |   mean_absolute_error |   Root-mean-square_error |   mean_squared_error |\n",
            "|-----------------------+------------+-----------------------+--------------------------+----------------------|\n",
            "| Holt_Winters_Method   | -123864    |                265.83 |            639.04        |     408374           |\n",
            "| moving_avg_forecast   |      -2.24 |                189.76 |            665.48        |     442875           |\n",
            "| ARIMA                 |    5003.32 |                263.7  |            639.06        |     408406           |\n",
            "| LinearRegression      |       0.42 |             730643    |              1.34069e+06 |          1.79744e+12 |\n",
            "| SVM                   |       0.23 |                 57.43 |            383.46        |     147044           |\n",
            "| DecisionTreeRegressor |       0.99 |                  4.47 |             21.07        |        444.04        |\n",
            "| XGBRegressor          |       0.99 |                  4.09 |             16.33        |        266.94        |\n",
            "| RandomForestRegressor |       0.99 |                  2.9  |             13.1         |        171.86        |\n",
            "----------------------------------------------------------------------------------------------------------------\n"
          ]
        }
      ]
    },
    {
      "cell_type": "markdown",
      "source": [
        "\n",
        "#**RESULT**\n",
        "*   **In this problem first i used traditional technique and check result and then I used Machine Learning approach and compare results mean_absolute_error**\n",
        "*   **When I used Holt_Winters_Method and the mean_absolute_error is=265.837**\n",
        "*   **Then I used moving_avg_forecast the mean_absolute_error is=189.765 the error is slightly got changed**\n",
        "*   **Then I Used ARIMA Model anr the mean_absolute_error is=263.707 this went worse maybe because of less data**\n",
        "*   **I try some ML models when I use LinearRegression model every loss is decreas except mean_absolute_error**\n",
        "*   **I use SVM model every loss is decreas except mean_squared_error and Root-mean-square_error**\n",
        "*   **I use DecisionTreeRegressor model every loss is decreas except  Root-mean-square_error**\n",
        "*   **I use XGBRegressor model every loss is decreas only mean_squared_error is slightly high**\n",
        "*   **Finally I used most famous and powerful ML Model which is RandomForestRegressor and all loss's get low value**\n",
        "*   **I try several techniques for Time Series Forecasting Problems and ML can work best on Time Series**\n",
        "\n",
        "##**future expansion**   \n",
        "**In future I gonna use to be Deep Learning Techniques Like LSTM or Some more complex deep Learning Technique**\n",
        "\n"
      ],
      "metadata": {
        "id": "bjwlIfNqHdPI"
      }
    },
    {
      "cell_type": "code",
      "source": [],
      "metadata": {
        "id": "SL5edVGprzcR"
      },
      "execution_count": null,
      "outputs": []
    }
  ]
}